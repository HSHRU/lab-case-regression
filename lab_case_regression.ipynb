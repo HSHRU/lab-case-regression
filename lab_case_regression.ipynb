{
 "cells": [
  {
   "cell_type": "code",
   "execution_count": 1,
   "id": "bb4cb759",
   "metadata": {},
   "outputs": [],
   "source": [
    "import pandas as pd\n",
    "import numpy as np\n",
    "pd.set_option('display.max_columns', None)\n",
    "import warnings\n",
    "warnings.filterwarnings('ignore')\n",
    "from sklearn.model_selection import cross_val_score\n",
    "from sklearn.model_selection import train_test_split\n",
    "\n",
    "\n",
    "numerical = pd.read_csv('numerical.csv')\n",
    "categorical = pd.read_csv('categorical.csv')\n",
    "targets = pd.read_csv('target.csv')\n",
    "df = pd.concat([numerical, categorical, targets], axis = 1)"
   ]
  },
  {
   "cell_type": "code",
   "execution_count": 4,
   "id": "1daa9aa8",
   "metadata": {},
   "outputs": [],
   "source": [
    "df= df[df['TARGET_B']!=0].reset_index(drop=True)"
   ]
  },
  {
   "cell_type": "code",
   "execution_count": 5,
   "id": "df5bbcb1",
   "metadata": {},
   "outputs": [],
   "source": [
    "df = df.drop('TARGET_B', axis=1)\n",
    "y = df['TARGET_D']\n",
    "X = df.drop(['TARGET_D'], axis = 1)"
   ]
  },
  {
   "cell_type": "code",
   "execution_count": 6,
   "id": "efe1b0a1",
   "metadata": {},
   "outputs": [],
   "source": [
    "from sklearn.model_selection import train_test_split\n",
    "X_train, X_test, y_train, y_test = train_test_split(X, y, test_size=0.2, random_state=0)"
   ]
  },
  {
   "cell_type": "code",
   "execution_count": 7,
   "id": "f61f2e92",
   "metadata": {},
   "outputs": [],
   "source": [
    "numerical_train = X_train.select_dtypes(np.number)\n",
    "categorical_train = X_train.select_dtypes(np.object)\n",
    "numerical_test = X_test.select_dtypes(np.number)\n",
    "categorical_test = X_test.select_dtypes(np.object)"
   ]
  },
  {
   "cell_type": "code",
   "execution_count": 8,
   "id": "b7bf44f2",
   "metadata": {},
   "outputs": [],
   "source": [
    "from sklearn.preprocessing import StandardScaler\n",
    "transformer = StandardScaler().fit(numerical_train)\n",
    "scaled_numerical_train = transformer.transform(numerical_train)\n",
    "scaled_numerical_train = pd.DataFrame(scaled_numerical_train, columns = numerical_train.columns)\n",
    "scaled_numerical_test = transformer.transform(numerical_test)\n",
    "scaled_numerical_test = pd.DataFrame(scaled_numerical_test, columns = numerical_test.columns)"
   ]
  },
  {
   "cell_type": "code",
   "execution_count": 9,
   "id": "a68ac5e7",
   "metadata": {},
   "outputs": [],
   "source": [
    "from sklearn.preprocessing import OneHotEncoder\n",
    "encoder = OneHotEncoder(drop='first').fit(categorical_train)\n",
    "encoded_categorical_train = encoder.transform(categorical_train).toarray()\n",
    "encoded_categorical_train = pd.DataFrame(encoded_categorical_train)\n",
    "\n",
    "\n",
    "encoded_categorical_test = encoder.transform(categorical_test).toarray()\n",
    "encoded_categorical_test = pd.DataFrame(encoded_categorical_test)"
   ]
  },
  {
   "cell_type": "code",
   "execution_count": 10,
   "id": "9fac118f",
   "metadata": {},
   "outputs": [],
   "source": [
    "X_train = pd.concat([scaled_numerical_train, encoded_categorical_train], axis = 1)\n",
    "X_test = pd.concat([scaled_numerical_test, encoded_categorical_test], axis = 1)"
   ]
  },
  {
   "cell_type": "code",
   "execution_count": 11,
   "id": "bf97f6de",
   "metadata": {},
   "outputs": [
    {
     "name": "stdout",
     "output_type": "stream",
     "text": [
      "{'Decision Tree Regressor': -0.14838232325149803, 'Linear Regression': 0.411789563482576, 'KNN': 0.08853731895563656}\n"
     ]
    }
   ],
   "source": [
    "from sklearn.tree import DecisionTreeRegressor\n",
    "from sklearn.model_selection import cross_val_score\n",
    "model1 = DecisionTreeRegressor()\n",
    "from sklearn.linear_model import LinearRegression\n",
    "model2 = LinearRegression()\n",
    "from sklearn.neighbors import KNeighborsRegressor\n",
    "model3 = KNeighborsRegressor()\n",
    "\n",
    "import numpy as np\n",
    "\n",
    "model_pipeline = [model1, model2, model3]\n",
    "model_names = ['Decision Tree Regressor', 'Linear Regression', 'KNN']\n",
    "scores = {}\n",
    "for model, model_name in zip(model_pipeline, model_names):\n",
    "    mean_score = np.mean(cross_val_score(model, X_train, y_train, cv=10))\n",
    "    scores[model_name] = mean_score\n",
    "print(scores)"
   ]
  },
  {
   "cell_type": "code",
   "execution_count": 12,
   "id": "8cbe1a4b",
   "metadata": {},
   "outputs": [
    {
     "data": {
      "text/plain": [
       "[(DecisionTreeRegressor(), 'Decision Tree Regressor'),\n",
       " (LinearRegression(), 'Linear Regression'),\n",
       " (KNeighborsRegressor(), 'KNN')]"
      ]
     },
     "execution_count": 12,
     "metadata": {},
     "output_type": "execute_result"
    }
   ],
   "source": [
    "list(zip(model_pipeline, model_names))"
   ]
  },
  {
   "cell_type": "code",
   "execution_count": 13,
   "id": "3c518f83",
   "metadata": {},
   "outputs": [
    {
     "name": "stdout",
     "output_type": "stream",
     "text": [
      "{'Decision Tree Regressor': 0.004566095843698381, 'Linear Regression': 0.2895529501340003, 'KNN': 0.028795169097421636}\n"
     ]
    }
   ],
   "source": [
    "val_scores = {}\n",
    "\n",
    "for model, model_name in zip(model_pipeline,model_names):\n",
    "    model.fit(X_train, y_train)\n",
    "    val_scores[model_name] = model.score(X_test,y_test)\n",
    "print(val_scores)"
   ]
  },
  {
   "cell_type": "markdown",
   "id": "3f30ac8c",
   "metadata": {},
   "source": [
    "##### The only model which predicts with 'some' accuracy is the linear regression model\n",
    "\n",
    "\n",
    "##### score of our test-data are bad"
   ]
  }
 ],
 "metadata": {
  "kernelspec": {
   "display_name": "Python 3 (ipykernel)",
   "language": "python",
   "name": "python3"
  },
  "language_info": {
   "codemirror_mode": {
    "name": "ipython",
    "version": 3
   },
   "file_extension": ".py",
   "mimetype": "text/x-python",
   "name": "python",
   "nbconvert_exporter": "python",
   "pygments_lexer": "ipython3",
   "version": "3.9.13"
  }
 },
 "nbformat": 4,
 "nbformat_minor": 5
}
